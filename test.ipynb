{
 "cells": [
  {
   "cell_type": "markdown",
   "metadata": {},
   "source": [
    "Uses default llm used for embedding is all-MiniLM-L6-v2 by chroma"
   ]
  },
  {
   "cell_type": "code",
   "execution_count": 36,
   "metadata": {},
   "outputs": [],
   "source": [
    "import csv\n",
    "\n",
    "with open('menu_items.csv') as file:\n",
    "    lines = csv.reader(file)\n",
    "\n",
    "    documents = []\n",
    "    metadatas = []\n",
    "    ids = []\n",
    "    id = 1\n",
    "    \n",
    "\n",
    "    for i, line in enumerate(lines):\n",
    "        #line is ['item_id', 'item_name']\n",
    "        if i==0:continue #skipping the header\n",
    "        documents.append(line[1])\n",
    "        metadatas.append({\"item_id\":line[0]})\n",
    "        ids.append(str(id))\n",
    "        id+=1\n",
    "        "
   ]
  },
  {
   "cell_type": "code",
   "execution_count": 40,
   "metadata": {},
   "outputs": [],
   "source": [
    "import chromadb\n",
    "chroma_client = chromadb.Client()"
   ]
  },
  {
   "cell_type": "code",
   "execution_count": null,
   "metadata": {},
   "outputs": [],
   "source": [
    "#chroma_client.delete_collection(name=\"my_collection\") #run this if my_collection aleady exist\n",
    "collection = chroma_client.create_collection(name=\"my_collection\")\n"
   ]
  },
  {
   "cell_type": "code",
   "execution_count": 46,
   "metadata": {},
   "outputs": [],
   "source": [
    "# collection.add(\n",
    "#     documents=[\n",
    "#         \"This is a document about pineapple\",\n",
    "#         \"This is a document about oranges\"\n",
    "#     ],\n",
    "#     ids=[\"id1\", \"id2\"]\n",
    "# )\n",
    "\n",
    "collection.add(\n",
    "    documents = documents,\n",
    "    metadatas = metadatas,\n",
    "    ids=ids\n",
    ")\n"
   ]
  },
  {
   "cell_type": "code",
   "execution_count": 63,
   "metadata": {},
   "outputs": [
    {
     "data": {
      "text/plain": [
       "{'ids': [['136', '137', '110', '84', '87']],\n",
       " 'embeddings': None,\n",
       " 'documents': [['Kung Pao Vegan Prawns',\n",
       "   'Vegan Prawns with Mixed Vegetables',\n",
       "   'Salt and Pepper Vegan Prawns',\n",
       "   'Vegan Prawns with Mixed Nuts',\n",
       "   'Vegan Kung Pao Prawns']],\n",
       " 'uris': None,\n",
       " 'data': None,\n",
       " 'metadatas': None,\n",
       " 'distances': None,\n",
       " 'included': [<IncludeEnum.documents: 'documents'>]}"
      ]
     },
     "execution_count": 63,
     "metadata": {},
     "output_type": "execute_result"
    }
   ],
   "source": [
    "results = collection.query(\n",
    "    query_texts=[\"prawn\"], # Chroma will embed , user input search\n",
    "    include=[\"documents\"], #to see only documents\n",
    "    n_results=5 # how many results to return\n",
    ")\n",
    "results\n"
   ]
  },
  {
   "cell_type": "markdown",
   "metadata": {},
   "source": [
    "This uses default llm for embedding which sometime not accurate lets try other in test2.ipynb"
   ]
  },
  {
   "cell_type": "code",
   "execution_count": null,
   "metadata": {},
   "outputs": [],
   "source": []
  }
 ],
 "metadata": {
  "kernelspec": {
   "display_name": "chatbot",
   "language": "python",
   "name": "python3"
  },
  "language_info": {
   "codemirror_mode": {
    "name": "ipython",
    "version": 3
   },
   "file_extension": ".py",
   "mimetype": "text/x-python",
   "name": "python",
   "nbconvert_exporter": "python",
   "pygments_lexer": "ipython3",
   "version": "3.9.21"
  }
 },
 "nbformat": 4,
 "nbformat_minor": 2
}
