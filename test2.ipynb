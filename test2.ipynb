{
 "cells": [
  {
   "cell_type": "markdown",
   "metadata": {},
   "source": [
    "https://docs.trychroma.com/docs/overview/getting-started\n",
    "\n",
    "install sentence transformer https://www.sbert.net/docs/installation.html"
   ]
  },
  {
   "cell_type": "code",
   "execution_count": 4,
   "metadata": {},
   "outputs": [],
   "source": [
    "import csv\n",
    "\n",
    "with open('menu_items.csv') as file:\n",
    "    lines = csv.reader(file)\n",
    "\n",
    "    documents = []\n",
    "    metadatas = []\n",
    "    ids = []\n",
    "    id = 1\n",
    "    \n",
    "\n",
    "    for i, line in enumerate(lines):\n",
    "        #line is ['item_id', 'item_name']\n",
    "        if i==0:continue #skipping the header\n",
    "        documents.append(line[1])\n",
    "        metadatas.append({\"item_id\":line[0]})\n",
    "        ids.append(str(id))\n",
    "        id+=1\n",
    "        "
   ]
  },
  {
   "cell_type": "code",
   "execution_count": 2,
   "metadata": {},
   "outputs": [],
   "source": [
    "import chromadb\n",
    "from chromadb.utils import embedding_functions\n",
    "chroma_client = chromadb.Client()"
   ]
  },
  {
   "cell_type": "code",
   "execution_count": null,
   "metadata": {},
   "outputs": [],
   "source": [
    "#chroma_client.delete_collection(name=\"my_collection\") #run this if collection already exists"
   ]
  },
  {
   "cell_type": "code",
   "execution_count": 3,
   "metadata": {},
   "outputs": [],
   "source": [
    "\n",
    "#changing modelname to pretrained sentence transformer and pass embedding function\n",
    "sentence_transformer_ef = embedding_functions.SentenceTransformerEmbeddingFunction(\n",
    "    model_name=\"all-mpnet-base-v2\"\n",
    ")\n",
    "collection = chroma_client.create_collection(name=\"my_collection\", embedding_function= sentence_transformer_ef)\n"
   ]
  },
  {
   "cell_type": "code",
   "execution_count": 5,
   "metadata": {},
   "outputs": [],
   "source": [
    "# collection.add(\n",
    "#     documents=[\n",
    "#         \"This is a document about pineapple\",\n",
    "#         \"This is a document about oranges\"\n",
    "#     ],\n",
    "#     ids=[\"id1\", \"id2\"]\n",
    "# )\n",
    "\n",
    "collection.add(\n",
    "    documents = documents,\n",
    "    metadatas = metadatas,\n",
    "    ids=ids\n",
    ")\n"
   ]
  },
  {
   "cell_type": "code",
   "execution_count": 6,
   "metadata": {},
   "outputs": [
    {
     "data": {
      "text/plain": [
       "{'ids': [['136', '110', '87', '85', '84']],\n",
       " 'embeddings': None,\n",
       " 'documents': [['Kung Pao Vegan Prawns',\n",
       "   'Salt and Pepper Vegan Prawns',\n",
       "   'Vegan Kung Pao Prawns',\n",
       "   'Vegan Prawns and Mushrooms with Black Pepper Sauce',\n",
       "   'Vegan Prawns with Mixed Nuts']],\n",
       " 'uris': None,\n",
       " 'data': None,\n",
       " 'metadatas': None,\n",
       " 'distances': None,\n",
       " 'included': [<IncludeEnum.documents: 'documents'>]}"
      ]
     },
     "execution_count": 6,
     "metadata": {},
     "output_type": "execute_result"
    }
   ],
   "source": [
    "results = collection.query(\n",
    "    query_texts=[\"shrimp\"], # Chroma will embed , user input search\n",
    "    include=[\"documents\"], #to see only documents\n",
    "    n_results=5 # how many results to return\n",
    ")\n",
    "results\n"
   ]
  },
  {
   "cell_type": "markdown",
   "metadata": {},
   "source": [
    "This atleats gives closer output similar to user search. we can use better embedding like openai"
   ]
  },
  {
   "cell_type": "markdown",
   "metadata": {},
   "source": []
  }
 ],
 "metadata": {
  "kernelspec": {
   "display_name": "AI",
   "language": "python",
   "name": "python3"
  },
  "language_info": {
   "codemirror_mode": {
    "name": "ipython",
    "version": 3
   },
   "file_extension": ".py",
   "mimetype": "text/x-python",
   "name": "python",
   "nbconvert_exporter": "python",
   "pygments_lexer": "ipython3",
   "version": "3.12.7"
  }
 },
 "nbformat": 4,
 "nbformat_minor": 2
}
